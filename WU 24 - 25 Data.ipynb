{
 "cells": [
  {
   "cell_type": "code",
   "execution_count": null,
   "metadata": {},
   "outputs": [],
   "source": [
    "import pandas as pd"
   ]
  },
  {
   "cell_type": "code",
   "execution_count": 4,
   "metadata": {},
   "outputs": [
    {
     "name": "stdout",
     "output_type": "stream",
     "text": [
      "Sheet name: Linfield\n",
      "Empty DataFrame\n",
      "Columns: [https://mahaffey2024.calicotab.com/mahaffey2024/]\n",
      "Index: []\n",
      "Sheet name: YODL 2\n",
      "     Rk            team            name      category institution  Rk1  R1  \\\n",
      "0    8=  Air Force GoHo     Nathan Good          Open   Air Force  1st  79   \n",
      "1    15  Air Force GoHo     Grace Hoyte          Open   Air Force  1st  78   \n",
      "2   96=  Air Force HaMa     Noah Marino  Open, Novice   Air Force  4th  73   \n",
      "3  114=  Air Force HaMa   Calin Hartzos  Open, Novice   Air Force  4th  74   \n",
      "4   40=  Air Force KeNe  Audrey Neukomm          Open   Air Force  3rd  74   \n",
      "\n",
      "   Rk2  R2  Rk3  R3  Rk4  R4  Team  Total    Avg  Trim  Stdev  \n",
      "0  1st  78  3rd  77  3rd  75     8    309  77.25  77.5   1.48  \n",
      "1  1st  77  3rd  78  3rd  74     8    307  76.75  77.5   1.64  \n",
      "2  3rd  76  3rd  75  1st  76     5    300  75.00  75.5   1.22  \n",
      "3  3rd  75  3rd  74  1st  76     5    299  74.75  74.5   0.83  \n",
      "4  2nd  78  1st  74  1st  78     9    304  76.00  76.0   2.00  \n",
      "Sheet name: UCLA IV\n",
      "   Rk                name category                                team  Rk1  \\\n",
      "0   1   Tejas Subramaniam      NaN  Stanford endogeneity strikes again  2nd   \n",
      "1   2        Elizabeth Li      NaN  Stanford endogeneity strikes again  2nd   \n",
      "2   3  Conna Leslie-Keefe      NaN       UNSW Leslie-Keefe &amp; Doyle  1st   \n",
      "3   4    Amitai Ben Porat      NaN               Stanford Intransigent  1st   \n",
      "4  5=       Claire Beamer      NaN               Stanford Intransigent  1st   \n",
      "\n",
      "   R1  Rk2  R2  Rk3  R3  Rk4  R4  Rk5  R5  Total   Avg  Stdev  \n",
      "0  81  1st  82  1st  81  1st  82  1st  82    408  81.6   0.49  \n",
      "1  80  1st  81  1st  82  1st  80  1st  81    404  80.8   0.75  \n",
      "2  81  1st  81  1st  81  2nd  81  3rd  79    403  80.6   0.80  \n",
      "3  79  1st  80  2nd  80  3rd  78  1st  83    400  80.0   1.67  \n",
      "4  80  1st  79  2nd  80  3rd  78  1st  81    398  79.6   1.02  \n",
      "Sheet name: YODL 1\n",
      "  Rk           name category            team institution  Rk1  R1  Rk2  R2  \\\n",
      "0  1  Fallon Eggett     Open  Air Force EgLi   Air Force  1st  79  1st  77   \n",
      "1  2   Dylan Berman     Open    Seattle HeBe     Seattle  1st  77  1st  78   \n",
      "2  3  Jacquelyn Liu     Open  Air Force EgLi   Air Force  1st  77  1st  77   \n",
      "3  4    Nathan Good     Open  Air Force GoHo   Air Force  2nd  79  1st  77   \n",
      "4  5  Selena Little     Open  Air Force LiDo   Air Force  2nd  77  1st  78   \n",
      "\n",
      "   Rk3  R3  Rk4  R4  Team  Total    Avg  Stdev  Trim  \n",
      "0  1st  80  1st  79    12    315  78.75   1.09  79.0  \n",
      "1  1st  78  2nd  78    11    311  77.75   0.43  78.0  \n",
      "2  1st  80  1st  77    12    311  77.75   1.30  77.0  \n",
      "3  2nd  76  1st  78    10    310  77.50   1.12  77.5  \n",
      "4  1st  79  3rd  76     9    310  77.50   1.12  77.5  \n",
      "Sheet name: Princeton\n",
      "   Rk            name category                                team  Rk1  R1  \\\n",
      "0   1      Matt Caito      NaN                 Open Matt and Paula  1st  81   \n",
      "1   2  Matt Mauriello      NaN                  Open Matt and Robi  1st  80   \n",
      "2   3       Tanae Rao      NaN                      Inner Temple B  1st  80   \n",
      "3   4       Sam Druce      NaN  Open lubricated probe covers for m  1st  82   \n",
      "4  5=        Ayal Mor      ESL                             HUJI AA  1st  80   \n",
      "\n",
      "   Rk2  R2  Rk3  R3  Rk4  R4  Rk5  R5 Total   Avg Stdev  \n",
      "0  1st  84  1st  81  1st  82  1st  83   411  82.2  1.17  \n",
      "1  1st  83  3rd  79  1st  82  1st  84   408  81.6  1.85  \n",
      "2  2nd  82  2nd  81  1st  82  2nd  82   407  81.4   0.8  \n",
      "3  2nd  81  2nd  82  2nd  79  1st  82   406  81.2  1.17  \n",
      "4  1st  84  2nd  80  1st  82  4th  79   405    81  1.79  \n",
      "Sheet name: Steve Hunt\n",
      "Empty DataFrame\n",
      "Columns: []\n",
      "Index: []\n",
      "Sheet name: Carroll Teaching\n",
      "Empty DataFrame\n",
      "Columns: []\n",
      "Index: []\n"
     ]
    }
   ],
   "source": [
    "# Define the path to your Excel file\n",
    "file_path = r'Data\\new data.xlsx'\n",
    "\n",
    "# Load the Excel file\n",
    "excel_data = pd.ExcelFile(file_path)\n",
    "\n",
    "# Initialize a dictionary to hold DataFrames\n",
    "dfs = {}\n",
    "\n",
    "# Loop through each sheet and store the DataFrame in the dictionary\n",
    "for sheet_name in excel_data.sheet_names:\n",
    "    dfs[sheet_name] = pd.read_excel(excel_data, sheet_name=sheet_name, header=0)\n",
    "\n",
    "# Display the DataFrames\n",
    "for sheet, df in dfs.items():\n",
    "    print(f\"Sheet name: {sheet}\")\n",
    "    print(df.head())  # Display the first few rows of each DataFrame"
   ]
  }
 ],
 "metadata": {
  "kernelspec": {
   "display_name": "Python 3",
   "language": "python",
   "name": "python3"
  },
  "language_info": {
   "codemirror_mode": {
    "name": "ipython",
    "version": 3
   },
   "file_extension": ".py",
   "mimetype": "text/x-python",
   "name": "python",
   "nbconvert_exporter": "python",
   "pygments_lexer": "ipython3",
   "version": "3.12.3"
  }
 },
 "nbformat": 4,
 "nbformat_minor": 2
}
